{
 "cells": [
  {
   "cell_type": "code",
   "execution_count": 1,
   "id": "f0e16350-b7b3-43b6-aaab-f43ea22e222d",
   "metadata": {},
   "outputs": [],
   "source": [
    "import os\n",
    "import sys\n",
    "import re\n",
    "from pathlib import Path\n",
    "\n",
    "# 获取当前工作目录的绝对路径\n",
    "current_directory = Path.cwd()\n",
    "# 获取根目录（上两级）\n",
    "root_directory = current_directory.parents[0]\n",
    "# 将根目录添加到系统路径中\n",
    "sys.path.append(str(root_directory))\n",
    "ROOT = Path(os.path.relpath(root_directory, Path.cwd()))  # relative\n",
    "\n",
    "relative_path = str(ROOT / \"script\")\n",
    "absolute_path = os.path.abspath(relative_path)\n",
    "os.chdir(absolute_path)"
   ]
  },
  {
   "cell_type": "code",
   "execution_count": 2,
   "id": "b170fcd9-4876-4aa5-bffb-9f6ade2dd851",
   "metadata": {
    "editable": true,
    "slideshow": {
     "slide_type": ""
    },
    "tags": []
   },
   "outputs": [
    {
     "name": "stderr",
     "output_type": "stream",
     "text": [
      "D:\\miniconda3\\envs\\speech_recognition_new\\lib\\site-packages\\torchaudio\\extension\\extension.py:13: UserWarning: torchaudio C++ extension is not available.\n",
      "  warnings.warn('torchaudio C++ extension is not available.')\n",
      "new registry table has been added: preprocessor_classes\n"
     ]
    },
    {
     "name": "stdout",
     "output_type": "stream",
     "text": [
      "If you want to use the speaker diarization, please `pip install hdbscan`\n",
      "If you want use mossformer, lease install rotary_embedding_torch by: \n",
      " pip install -U rotary_embedding_torch\n",
      "If you want use mossformer, lease install rotary_embedding_torch by: \n",
      " pip install -U rotary_embedding_torch\n",
      "Please Requires the ffmpeg CLI and `ffmpeg-python` package to be installed.\n",
      "If you want use mossformer, lease install rotary_embedding_torch by: \n",
      " pip install -U rotary_embedding_torch\n",
      "If you want use mossformer, lease install rotary_embedding_torch by: \n",
      " pip install -U rotary_embedding_torch\n"
     ]
    }
   ],
   "source": [
    "from run.run_v2 import *"
   ]
  },
  {
   "cell_type": "code",
   "execution_count": 3,
   "id": "7a953562-8632-4181-9d0b-b5c4a0b02056",
   "metadata": {},
   "outputs": [],
   "source": [
    "rs_dict = batch_funasr_run(song_name=\"qilai\", input_mode=\"scp\")"
   ]
  },
  {
   "cell_type": "code",
   "execution_count": 4,
   "id": "147e64e9-9222-4c61-b21f-4f9982c8f8e9",
   "metadata": {
    "scrolled": true
   },
   "outputs": [
    {
     "data": {
      "text/plain": [
       "{'key': 'cst',\n",
       " 'text': '起来不愿做努力的人们，把我们的血肉筑成我们新的长城。中华民族到了最危险的时候，每一个人被迫着发出最后的吼声起来起来起来，我们万众一心冒着敌人的炮火前进，冒着敌人的炮火前进，前进，前进进。',\n",
       " 'timestamp': [[770, 1010],\n",
       "  [1170, 1410],\n",
       "  [2270, 2510],\n",
       "  [2610, 2850],\n",
       "  [3170, 3410],\n",
       "  [3410, 3650],\n",
       "  [3690, 3850],\n",
       "  [3850, 4050],\n",
       "  [4050, 4290],\n",
       "  [4570, 4810],\n",
       "  [5730, 5970],\n",
       "  [6090, 6330],\n",
       "  [6350, 6590],\n",
       "  [6590, 6790],\n",
       "  [6790, 7030],\n",
       "  [7430, 7670],\n",
       "  [8170, 8410],\n",
       "  [8630, 8870],\n",
       "  [8910, 9150],\n",
       "  [9270, 9510],\n",
       "  [9610, 9850],\n",
       "  [9990, 10230],\n",
       "  [10270, 10510],\n",
       "  [10830, 11395],\n",
       "  [12380, 12620],\n",
       "  [12960, 13200],\n",
       "  [13740, 13980],\n",
       "  [14340, 14580],\n",
       "  [15100, 15340],\n",
       "  [15420, 15660],\n",
       "  [16140, 16380],\n",
       "  [16520, 16760],\n",
       "  [16860, 17020],\n",
       "  [17020, 17260],\n",
       "  [17300, 17540],\n",
       "  [17920, 18160],\n",
       "  [19360, 19600],\n",
       "  [19660, 19800],\n",
       "  [19800, 20020],\n",
       "  [20020, 20259],\n",
       "  [20360, 20600],\n",
       "  [20600, 20840],\n",
       "  [21120, 21280],\n",
       "  [21280, 21520],\n",
       "  [21560, 21800],\n",
       "  [21940, 22160],\n",
       "  [22160, 22400],\n",
       "  [22400, 22620],\n",
       "  [22620, 22860],\n",
       "  [23160, 23400],\n",
       "  [24240, 24480],\n",
       "  [24660, 24900],\n",
       "  [25580, 25820],\n",
       "  [25980, 26220],\n",
       "  [26900, 27140],\n",
       "  [27420, 27865],\n",
       "  [28860, 29100],\n",
       "  [29220, 29460],\n",
       "  [29500, 29740],\n",
       "  [29760, 30000],\n",
       "  [30160, 30400],\n",
       "  [30720, 30960],\n",
       "  [31520, 31760],\n",
       "  [31860, 32100],\n",
       "  [32160, 32320],\n",
       "  [32320, 32560],\n",
       "  [32560, 32780],\n",
       "  [32780, 33020],\n",
       "  [33280, 33520],\n",
       "  [34000, 34240],\n",
       "  [34660, 34900],\n",
       "  [35460, 35700],\n",
       "  [35840, 36080],\n",
       "  [36100, 36260],\n",
       "  [36260, 36500],\n",
       "  [36500, 36740],\n",
       "  [36780, 37020],\n",
       "  [37280, 37520],\n",
       "  [37960, 38200],\n",
       "  [38580, 38820],\n",
       "  [39260, 39500],\n",
       "  [39900, 40140],\n",
       "  [40580, 40820],\n",
       "  [41160, 41400],\n",
       "  [41820, 42355]]}"
      ]
     },
     "execution_count": 4,
     "metadata": {},
     "output_type": "execute_result"
    }
   ],
   "source": [
    "rs_dict[0]"
   ]
  },
  {
   "cell_type": "code",
   "execution_count": 5,
   "id": "9f799335-bda1-4e80-a105-f1c77fd55964",
   "metadata": {
    "scrolled": true
   },
   "outputs": [
    {
     "data": {
      "text/plain": [
       "[{'word': '起',\n",
       "  'eigen': {'start_time': 0.77,\n",
       "   'end_time': 1.17,\n",
       "   'freq': 173.529,\n",
       "   'times': 0.4}},\n",
       " {'word': '来',\n",
       "  'eigen': {'start_time': 1.17,\n",
       "   'end_time': 2.27,\n",
       "   'freq': 217.374,\n",
       "   'times': 1.1}},\n",
       " {'word': '不',\n",
       "  'eigen': {'start_time': 2.27,\n",
       "   'end_time': 2.61,\n",
       "   'freq': 214.877,\n",
       "   'times': 0.34}},\n",
       " {'word': '愿',\n",
       "  'eigen': {'start_time': 2.61,\n",
       "   'end_time': 3.17,\n",
       "   'freq': 219.266,\n",
       "   'times': 0.56}},\n",
       " {'word': '做',\n",
       "  'eigen': {'start_time': 3.17,\n",
       "   'end_time': 3.41,\n",
       "   'freq': 222.455,\n",
       "   'times': 0.24}}]"
      ]
     },
     "execution_count": 5,
     "metadata": {},
     "output_type": "execute_result"
    }
   ],
   "source": [
    "# 其中一首歌的特征字典\n",
    "pwf_dict = getSongFeat(rs_dict[0], input_audio_dataset=\"qilai\")\n",
    "pwf_dict_list = [pwf_dict]\n",
    "pwf_dict_list[0][\"cst.wav\"][\"eigen_list\"][:5]"
   ]
  },
  {
   "cell_type": "code",
   "execution_count": 6,
   "id": "f2a5c646-140a-44cc-b393-140290cf99ce",
   "metadata": {
    "scrolled": true
   },
   "outputs": [
    {
     "data": {
      "text/plain": [
       "{'bpm': 120,\n",
       " 'key_signature': 'G',\n",
       " 'time_signature': [2, 4],\n",
       " 'eigen_list': [{'word': '起', 'eigen': {'note': [293.665], 'time': [0.25]}},\n",
       "  {'word': '来', 'eigen': {'note': [392.0], 'time': [0.75]}},\n",
       "  {'word': '不', 'eigen': {'note': [392.0], 'time': [0.25]}},\n",
       "  {'word': '愿', 'eigen': {'note': [392.0], 'time': [0.375]}},\n",
       "  {'word': '做', 'eigen': {'note': [392.0], 'time': [0.125]}},\n",
       "  {'word': '奴', 'eigen': {'note': [293.665], 'time': [0.25]}},\n",
       "  {'word': '隶', 'eigen': {'note': [329.63], 'time': [0.125]}},\n",
       "  {'word': '的', 'eigen': {'note': [370.495], 'time': [0.125]}},\n",
       "  {'word': '人', 'eigen': {'note': [392.0], 'time': [0.5]}},\n",
       "  {'word': '们', 'eigen': {'note': [392.0], 'time': [0.5]}},\n",
       "  {'word': '把', 'eigen': {'note': [494.88], 'time': [0.25]}},\n",
       "  {'word': '我', 'eigen': {'note': [392.0], 'time': [0.25]}},\n",
       "  {'word': '们', 'eigen': {'note': [440.0], 'time': [0.125]}},\n",
       "  {'word': '的', 'eigen': {'note': [494.88], 'time': [0.125]}},\n",
       "  {'word': '血', 'eigen': {'note': [587.33], 'time': [0.5]}},\n",
       "  {'word': '肉', 'eigen': {'note': [587.33], 'time': [0.5]}},\n",
       "  {'word': '筑', 'eigen': {'note': [494.88], 'time': [0.375]}},\n",
       "  {'word': '成', 'eigen': {'note': [494.88], 'time': [0.125]}},\n",
       "  {'word': '我', 'eigen': {'note': [392.0], 'time': [0.375]}},\n",
       "  {'word': '们', 'eigen': {'note': [494.88], 'time': [0.125]}},\n",
       "  {'word': '新', 'eigen': {'note': [587.33], 'time': [0.375]}},\n",
       "  {'word': '的', 'eigen': {'note': [494.88], 'time': [0.125]}},\n",
       "  {'word': '长', 'eigen': {'note': [440.0], 'time': [0.5]}},\n",
       "  {'word': '城', 'eigen': {'note': [440.0], 'time': [1.0]}},\n",
       "  {'word': '中', 'eigen': {'note': [659.26], 'time': [0.5]}},\n",
       "  {'word': '华', 'eigen': {'note': [587.33], 'time': [0.5]}},\n",
       "  {'word': '民', 'eigen': {'note': [440.0], 'time': [0.5]}},\n",
       "  {'word': '族', 'eigen': {'note': [494.88], 'time': [0.5]}},\n",
       "  {'word': '到', 'eigen': {'note': [587.33], 'time': [0.25]}},\n",
       "  {'word': '了', 'eigen': {'note': [494.88], 'time': [0.25]}},\n",
       "  {'word': '最', 'eigen': {'note': [587.33], 'time': [0.25]}},\n",
       "  {'word': '危', 'eigen': {'note': [494.88], 'time': [0.25]}},\n",
       "  {'word': '险', 'eigen': {'note': [440.0], 'time': [0.125]}},\n",
       "  {'word': '的', 'eigen': {'note': [494.88], 'time': [0.125]}},\n",
       "  {'word': '时', 'eigen': {'note': [392.0], 'time': [0.5]}},\n",
       "  {'word': '候', 'eigen': {'note': [494.88], 'time': [0.5]}},\n",
       "  {'word': '每', 'eigen': {'note': [293.665], 'time': [0.375]}},\n",
       "  {'word': '个', 'eigen': {'note': [329.63], 'time': [0.125]}},\n",
       "  {'word': '人', 'eigen': {'note': [392.0], 'time': [0.25]}},\n",
       "  {'word': '被', 'eigen': {'note': [392.0], 'time': [0.25]}},\n",
       "  {'word': '迫', 'eigen': {'note': [494.88], 'time': [0.375]}},\n",
       "  {'word': '着', 'eigen': {'note': [494.88], 'time': [0.125]}},\n",
       "  {'word': '发', 'eigen': {'note': [587.33], 'time': [0.25]}},\n",
       "  {'word': '出', 'eigen': {'note': [587.33], 'time': [0.25]}},\n",
       "  {'word': '最', 'eigen': {'note': [440.0], 'time': [0.25]}},\n",
       "  {'word': '后', 'eigen': {'note': [440.0], 'time': [0.125]}},\n",
       "  {'word': '的', 'eigen': {'note': [440.0], 'time': [0.125]}},\n",
       "  {'word': '吼', 'eigen': {'note': [329.63], 'time': [0.5]}},\n",
       "  {'word': '声', 'eigen': {'note': [440.0], 'time': [0.75]}},\n",
       "  {'word': '起', 'eigen': {'note': [293.665], 'time': [0.25]}},\n",
       "  {'word': '来', 'eigen': {'note': [392.0], 'time': [0.75]}},\n",
       "  {'word': '起', 'eigen': {'note': [392.0], 'time': [0.25]}},\n",
       "  {'word': '来', 'eigen': {'note': [494.88], 'time': [0.75]}},\n",
       "  {'word': '起', 'eigen': {'note': [494.88], 'time': [0.25]}},\n",
       "  {'word': '来', 'eigen': {'note': [587.33], 'time': [1.0]}},\n",
       "  {'word': '我', 'eigen': {'note': [392.0], 'time': [0.375]}},\n",
       "  {'word': '们', 'eigen': {'note': [494.88], 'time': [0.125]}},\n",
       "  {'word': '万', 'eigen': {'note': [587.33], 'time': [0.25]}},\n",
       "  {'word': '众', 'eigen': {'note': [587.33], 'time': [0.25]}},\n",
       "  {'word': '一', 'eigen': {'note': [659.26], 'time': [0.5]}},\n",
       "  {'word': '心', 'eigen': {'note': [587.33], 'time': [0.5]}},\n",
       "  {'word': '冒', 'eigen': {'note': [494.88], 'time': [0.375]}},\n",
       "  {'word': '着', 'eigen': {'note': [392.0], 'time': [0.125]}},\n",
       "  {'word': '敌', 'eigen': {'note': [587.33], 'time': [0.165]}},\n",
       "  {'word': '人', 'eigen': {'note': [587.33], 'time': [0.165]}},\n",
       "  {'word': '的', 'eigen': {'note': [587.33], 'time': [0.165]}},\n",
       "  {'word': '炮', 'eigen': {'note': [494.88], 'time': [0.25]}},\n",
       "  {'word': '火', 'eigen': {'note': [392.0], 'time': [0.25]}},\n",
       "  {'word': '前', 'eigen': {'note': [293.665], 'time': [0.5]}},\n",
       "  {'word': '进', 'eigen': {'note': [392.0], 'time': [0.5]}},\n",
       "  {'word': '冒', 'eigen': {'note': [494.88], 'time': [0.375]}},\n",
       "  {'word': '着', 'eigen': {'note': [392.0], 'time': [0.125]}},\n",
       "  {'word': '敌', 'eigen': {'note': [587.33], 'time': [0.165]}},\n",
       "  {'word': '人', 'eigen': {'note': [587.33], 'time': [0.165]}},\n",
       "  {'word': '的', 'eigen': {'note': [587.33], 'time': [0.165]}},\n",
       "  {'word': '炮', 'eigen': {'note': [494.88], 'time': [0.25]}},\n",
       "  {'word': '火', 'eigen': {'note': [392.0], 'time': [0.25]}},\n",
       "  {'word': '前', 'eigen': {'note': [293.665], 'time': [0.5]}},\n",
       "  {'word': '进', 'eigen': {'note': [392.0], 'time': [0.5]}},\n",
       "  {'word': '前', 'eigen': {'note': [293.665], 'time': [0.5]}},\n",
       "  {'word': '进', 'eigen': {'note': [392.0], 'time': [0.5]}},\n",
       "  {'word': '前', 'eigen': {'note': [293.665], 'time': [0.5]}},\n",
       "  {'word': '进', 'eigen': {'note': [392.0], 'time': [0.5]}},\n",
       "  {'word': '进', 'eigen': {'note': [392.0], 'time': [0.5]}}]}"
      ]
     },
     "execution_count": 6,
     "metadata": {},
     "output_type": "execute_result"
    }
   ],
   "source": [
    "notation_feat_dict = getSheetMusicFeatDict(json_name = \"guoge\")\n",
    "notation_feat_dict[\"G\"]"
   ]
  },
  {
   "cell_type": "code",
   "execution_count": 7,
   "id": "c4512e71-2850-4330-90f1-b109e3ddf3bd",
   "metadata": {
    "editable": true,
    "slideshow": {
     "slide_type": ""
    },
    "tags": []
   },
   "outputs": [
    {
     "name": "stdout",
     "output_type": "stream",
     "text": [
      "CSV文件已创建或更新： ..\\data\\raw_data\\模型结果表.csv\n"
     ]
    },
    {
     "data": {
      "text/plain": [
       "[{'wav文件名': 'cst.wav', '评分维度': '音准', 'dtw特征值': 0.3083975405511764},\n",
       " {'wav文件名': 'cst.wav', '评分维度': '节拍节奏', 'dtw特征值': 0.275894427002489}]"
      ]
     },
     "execution_count": 7,
     "metadata": {},
     "output_type": "execute_result"
    }
   ],
   "source": [
    "calDtwFreqAndTempo(notation_feat_dict=notation_feat_dict, batch_pwf_dict=pwf_dict_list)"
   ]
  },
  {
   "cell_type": "code",
   "execution_count": null,
   "id": "fd518aaa-34aa-450e-8122-d856dc19568c",
   "metadata": {},
   "outputs": [],
   "source": []
  }
 ],
 "metadata": {
  "kernelspec": {
   "display_name": "Python 3 (ipykernel)",
   "language": "python",
   "name": "python3"
  },
  "language_info": {
   "codemirror_mode": {
    "name": "ipython",
    "version": 3
   },
   "file_extension": ".py",
   "mimetype": "text/x-python",
   "name": "python",
   "nbconvert_exporter": "python",
   "pygments_lexer": "ipython3",
   "version": "3.8.18"
  }
 },
 "nbformat": 4,
 "nbformat_minor": 5
}
